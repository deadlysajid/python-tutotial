{
 "cells": [
  {
   "cell_type": "code",
   "execution_count": 111,
   "id": "5beefaaa-f04f-46e9-a497-2b27effab240",
   "metadata": {},
   "outputs": [
    {
     "name": "stdout",
     "output_type": "stream",
     "text": [
      "Hello World\n",
      "None\n"
     ]
    }
   ],
   "source": [
    "x=print(\"Hello World\")\n",
    "print(x)"
   ]
  },
  {
   "cell_type": "code",
   "execution_count": 3,
   "id": "c3e2cdbf-2956-459a-bf60-a25a7979d8b3",
   "metadata": {},
   "outputs": [
    {
     "name": "stdout",
     "output_type": "stream",
     "text": [
      "100\n"
     ]
    }
   ],
   "source": [
    "a=100\n",
    "print(a)"
   ]
  },
  {
   "cell_type": "code",
   "execution_count": 5,
   "id": "97946d2f-f53b-42fc-aaea-a177a61f399f",
   "metadata": {},
   "outputs": [
    {
     "name": "stdout",
     "output_type": "stream",
     "text": [
      "the  value is  988\n"
     ]
    }
   ],
   "source": [
    "x=988\n",
    "print(\"the  value is \",x)"
   ]
  },
  {
   "cell_type": "code",
   "execution_count": 7,
   "id": "6f11eb1f-ef26-45ad-9ab0-704fb5dd75c6",
   "metadata": {},
   "outputs": [
    {
     "data": {
      "text/plain": [
       "int"
      ]
     },
     "execution_count": 7,
     "metadata": {},
     "output_type": "execute_result"
    }
   ],
   "source": [
    "a=10\n",
    "type(a)"
   ]
  },
  {
   "cell_type": "code",
   "execution_count": 9,
   "id": "ceb8b858-342a-470d-9755-4251e3b816fa",
   "metadata": {},
   "outputs": [],
   "source": [
    "a=56\n",
    "b=13"
   ]
  },
  {
   "cell_type": "code",
   "execution_count": 11,
   "id": "4674e021-767c-4ebd-8951-eec9bb286c00",
   "metadata": {},
   "outputs": [
    {
     "data": {
      "text/plain": [
       "69"
      ]
     },
     "execution_count": 11,
     "metadata": {},
     "output_type": "execute_result"
    }
   ],
   "source": [
    "a+b"
   ]
  },
  {
   "cell_type": "code",
   "execution_count": 13,
   "id": "2b74b414-443d-4022-86bc-6a435fdbe9e6",
   "metadata": {},
   "outputs": [
    {
     "data": {
      "text/plain": [
       "43"
      ]
     },
     "execution_count": 13,
     "metadata": {},
     "output_type": "execute_result"
    }
   ],
   "source": [
    "a-b"
   ]
  },
  {
   "cell_type": "code",
   "execution_count": 15,
   "id": "0e6980c9-5acd-4eb9-9b61-33fba589ea07",
   "metadata": {},
   "outputs": [
    {
     "data": {
      "text/plain": [
       "728"
      ]
     },
     "execution_count": 15,
     "metadata": {},
     "output_type": "execute_result"
    }
   ],
   "source": [
    "a*b"
   ]
  },
  {
   "cell_type": "code",
   "execution_count": 17,
   "id": "6409e02e-9d55-47cd-a3a8-c31b9f3d2718",
   "metadata": {},
   "outputs": [
    {
     "data": {
      "text/plain": [
       "4.3076923076923075"
      ]
     },
     "execution_count": 17,
     "metadata": {},
     "output_type": "execute_result"
    }
   ],
   "source": [
    "a/b"
   ]
  },
  {
   "cell_type": "code",
   "execution_count": 19,
   "id": "977842db-1620-42e7-bd95-248ba382e997",
   "metadata": {},
   "outputs": [
    {
     "data": {
      "text/plain": [
       "4"
      ]
     },
     "execution_count": 19,
     "metadata": {},
     "output_type": "execute_result"
    }
   ],
   "source": [
    "a//b"
   ]
  },
  {
   "cell_type": "code",
   "execution_count": 21,
   "id": "17ab2998-fd53-47b7-97a4-49aca3c139c4",
   "metadata": {},
   "outputs": [
    {
     "data": {
      "text/plain": [
       "4"
      ]
     },
     "execution_count": 21,
     "metadata": {},
     "output_type": "execute_result"
    }
   ],
   "source": [
    "a%b"
   ]
  },
  {
   "cell_type": "code",
   "execution_count": 23,
   "id": "d75f1810-b600-43f2-9e6b-c36b5bb7048f",
   "metadata": {},
   "outputs": [],
   "source": [
    "x=45\n",
    "y=3"
   ]
  },
  {
   "cell_type": "code",
   "execution_count": 25,
   "id": "1e0a80aa-ac0d-4f8e-8e29-cbfdb10205f1",
   "metadata": {},
   "outputs": [
    {
     "data": {
      "text/plain": [
       "91125"
      ]
     },
     "execution_count": 25,
     "metadata": {},
     "output_type": "execute_result"
    }
   ],
   "source": [
    "x**y"
   ]
  },
  {
   "cell_type": "code",
   "execution_count": 27,
   "id": "5728bff2-ac6e-4abc-a0ef-2a9f71b817bd",
   "metadata": {},
   "outputs": [
    {
     "name": "stdout",
     "output_type": "stream",
     "text": [
      "Add 103\n",
      "Sub 97\n",
      "Mul 300\n",
      "Div 33.333333333333336\n",
      "Mod 1\n",
      "Floor Div 33\n",
      "Exponent 1000000\n"
     ]
    }
   ],
   "source": [
    "a=100\n",
    "b=3\n",
    "print(\"Add\",a+b)\n",
    "print(\"Sub\",a-b)\n",
    "print(\"Mul\",a*b)\n",
    "print(\"Div\",a/b)\n",
    "print(\"Mod\",a%b)\n",
    "print(\"Floor Div\",a//b)\n",
    "print(\"Exponent\",a**b)"
   ]
  },
  {
   "cell_type": "code",
   "execution_count": 29,
   "id": "1e1353b7-80a2-4598-a3f0-8a0b3087865c",
   "metadata": {},
   "outputs": [
    {
     "name": "stdout",
     "output_type": "stream",
     "text": [
      "300\n"
     ]
    }
   ],
   "source": [
    "#sum of two number\n",
    "a=100\n",
    "b=200\n",
    "c=a+b\n",
    "print(c)"
   ]
  },
  {
   "cell_type": "code",
   "execution_count": 31,
   "id": "adfba3a1-11bd-400f-aa55-de04f9055c6b",
   "metadata": {},
   "outputs": [
    {
     "name": "stdout",
     "output_type": "stream",
     "text": [
      "sum is  700\n"
     ]
    }
   ],
   "source": [
    "#sum of two number\n",
    "a=500\n",
    "b=200\n",
    "c=a+b\n",
    "print(\"sum is \",c)\n"
   ]
  },
  {
   "cell_type": "code",
   "execution_count": 1,
   "id": "52a5e5bb-2f52-4375-b004-82fbfb266f9b",
   "metadata": {},
   "outputs": [
    {
     "ename": "SyntaxError",
     "evalue": "unterminated string literal (detected at line 5) (3975476684.py, line 5)",
     "output_type": "error",
     "traceback": [
      "\u001b[1;36m  Cell \u001b[1;32mIn[1], line 5\u001b[1;36m\u001b[0m\n\u001b[1;33m    print(Average is \",avg)\u001b[0m\n\u001b[1;37m                     ^\u001b[0m\n\u001b[1;31mSyntaxError\u001b[0m\u001b[1;31m:\u001b[0m unterminated string literal (detected at line 5)\n"
     ]
    }
   ],
   "source": [
    "a=89.98\n",
    "b=78.87\n",
    "c=56.65\n",
    "avg=(a+b+c)/3\n",
    "print(Average is \",avg)"
   ]
  },
  {
   "cell_type": "code",
   "execution_count": 15,
   "id": "978139bc-cbcd-46d3-9460-5d39eac3e4a4",
   "metadata": {},
   "outputs": [
    {
     "name": "stdout",
     "output_type": "stream",
     "text": [
      "the percentage is   72.6\n"
     ]
    }
   ],
   "source": [
    "p=56\n",
    "c=76\n",
    "m=86\n",
    "e=67\n",
    "h=78\n",
    "s=p+c+m+e+h\n",
    "per=s*100/500\n",
    "print(\"the percentage is  \",per)"
   ]
  },
  {
   "cell_type": "code",
   "execution_count": 11,
   "id": "f8d35555-e341-4b77-996b-378809ad5cb6",
   "metadata": {},
   "outputs": [
    {
     "ename": "SyntaxError",
     "evalue": "cannot assign to literal here. Maybe you meant '==' instead of '='? (2280818603.py, line 4)",
     "output_type": "error",
     "traceback": [
      "\u001b[1;36m  Cell \u001b[1;32mIn[11], line 4\u001b[1;36m\u001b[0m\n\u001b[1;33m    6=67\u001b[0m\n\u001b[1;37m    ^\u001b[0m\n\u001b[1;31mSyntaxError\u001b[0m\u001b[1;31m:\u001b[0m cannot assign to literal here. Maybe you meant '==' instead of '='?\n"
     ]
    }
   ],
   "source": [
    "p=56\n",
    "c=76\n",
    "m=86\n",
    "6=67\n",
    "h=78\n",
    "s=p+c+m+e+h\n",
    "per=s*100/500\n",
    "print(\"the percentage is\",per)"
   ]
  },
  {
   "cell_type": "code",
   "execution_count": 13,
   "id": "9d22cfe4-0a50-4d19-8fb0-43fe74a85781",
   "metadata": {},
   "outputs": [
    {
     "ename": "SyntaxError",
     "evalue": "cannot assign to literal here. Maybe you meant '==' instead of '='? (2280818603.py, line 4)",
     "output_type": "error",
     "traceback": [
      "\u001b[1;36m  Cell \u001b[1;32mIn[13], line 4\u001b[1;36m\u001b[0m\n\u001b[1;33m    6=67\u001b[0m\n\u001b[1;37m    ^\u001b[0m\n\u001b[1;31mSyntaxError\u001b[0m\u001b[1;31m:\u001b[0m cannot assign to literal here. Maybe you meant '==' instead of '='?\n"
     ]
    }
   ],
   "source": [
    "p=56\n",
    "c=76\n",
    "m=86\n",
    "6=67\n",
    "h=78\n",
    "s=p+c+m+e+h\n",
    "per=s*100/500\n",
    "print(\"the percentage is\",per)"
   ]
  },
  {
   "cell_type": "code",
   "execution_count": null,
   "id": "de056b00-ad50-49ed-ba82-0b8174286d3e",
   "metadata": {},
   "outputs": [],
   "source": []
  },
  {
   "cell_type": "code",
   "execution_count": 16,
   "id": "11030c72-9d26-476d-a869-0f11ca183c08",
   "metadata": {},
   "outputs": [
    {
     "ename": "SyntaxError",
     "evalue": "incomplete input (1068852369.py, line 4)",
     "output_type": "error",
     "traceback": [
      "\u001b[1;36m  Cell \u001b[1;32mIn[16], line 4\u001b[1;36m\u001b[0m\n\u001b[1;33m    print(\u001b[0m\n\u001b[1;37m          ^\u001b[0m\n\u001b[1;31mSyntaxError\u001b[0m\u001b[1;31m:\u001b[0m incomplete input\n"
     ]
    }
   ],
   "source": [
    "a=67\n",
    "b=4\n",
    "c=a**b\n",
    "print("
   ]
  },
  {
   "cell_type": "code",
   "execution_count": 18,
   "id": "cc2e628c-73d3-48a2-a7de-a8df039dcec4",
   "metadata": {},
   "outputs": [
    {
     "name": "stdout",
     "output_type": "stream",
     "text": [
      "the result is 20151121\n"
     ]
    }
   ],
   "source": [
    "a=67\n",
    "b=4\n",
    "c=a**b\n",
    "print(\"the result is\",c)"
   ]
  },
  {
   "cell_type": "code",
   "execution_count": 20,
   "id": "dd811d23-7951-43b4-9c2b-1e1e6f988471",
   "metadata": {},
   "outputs": [
    {
     "ename": "SyntaxError",
     "evalue": "invalid syntax. Perhaps you forgot a comma? (1754489972.py, line 4)",
     "output_type": "error",
     "traceback": [
      "\u001b[1;36m  Cell \u001b[1;32mIn[20], line 4\u001b[1;36m\u001b[0m\n\u001b[1;33m    print(\"square root is \"c)\u001b[0m\n\u001b[1;37m          ^\u001b[0m\n\u001b[1;31mSyntaxError\u001b[0m\u001b[1;31m:\u001b[0m invalid syntax. Perhaps you forgot a comma?\n"
     ]
    }
   ],
   "source": [
    "import math\n",
    "n=34\n",
    "c=math.sqrt(n)\n",
    "print(\"square root is \"c)"
   ]
  },
  {
   "cell_type": "code",
   "execution_count": 22,
   "id": "2f20f85d-f006-428b-9a01-2043904d47ae",
   "metadata": {},
   "outputs": [
    {
     "name": "stdout",
     "output_type": "stream",
     "text": [
      "square root is  5.830951894845301\n"
     ]
    }
   ],
   "source": [
    "import math\n",
    "n=34\n",
    "c=math.sqrt(n)\n",
    "print(\"square root is \",c)"
   ]
  },
  {
   "cell_type": "code",
   "execution_count": 24,
   "id": "a8f53559-10c4-4375-be82-49e47ad8fa9f",
   "metadata": {},
   "outputs": [
    {
     "name": "stdout",
     "output_type": "stream",
     "text": [
      "square root is  8.831760866327848\n"
     ]
    }
   ],
   "source": [
    "import math\n",
    "n=78\n",
    "c=math.sqrt(n)\n",
    "print(\"square root is \",c)"
   ]
  },
  {
   "cell_type": "code",
   "execution_count": 26,
   "id": "8c7a8b33-59b3-475c-b1a4-4ad7ba2e92ad",
   "metadata": {},
   "outputs": [
    {
     "name": "stdout",
     "output_type": "stream",
     "text": [
      "square root is  10.392304845413264\n"
     ]
    }
   ],
   "source": [
    "import math\n",
    "n=108\n",
    "c=math.sqrt(n)\n",
    "print(\"square root is \",c)"
   ]
  },
  {
   "cell_type": "code",
   "execution_count": 28,
   "id": "72b24156-7db0-4994-8242-50b5bf08d8a9",
   "metadata": {},
   "outputs": [
    {
     "name": "stdout",
     "output_type": "stream",
     "text": [
      "square root is  14.142135623730951\n"
     ]
    }
   ],
   "source": [
    "import math\n",
    "n=200\n",
    "c=math.sqrt(n)\n",
    "print(\"square root is \",c)"
   ]
  },
  {
   "cell_type": "code",
   "execution_count": 30,
   "id": "ca6f3eef-ca8f-4f22-8edf-df0aa9fb44ba",
   "metadata": {},
   "outputs": [
    {
     "name": "stdout",
     "output_type": "stream",
     "text": [
      "expinent is  2025.0\n"
     ]
    }
   ],
   "source": [
    "import math\n",
    "a=45\n",
    "b=2\n",
    "c=math.pow (a,b)\n",
    "print(\"expinent is \",c)"
   ]
  },
  {
   "cell_type": "code",
   "execution_count": 32,
   "id": "6d58d1f3-4215-4f9c-b41e-04f7cf3b5a3f",
   "metadata": {},
   "outputs": [
    {
     "name": "stdout",
     "output_type": "stream",
     "text": [
      "expinent is  2025.0\n"
     ]
    }
   ],
   "source": [
    "a=45\n",
    "b=2\n",
    "c=math.pow (a,b)\n",
    "print(\"expinent is \",c)"
   ]
  },
  {
   "cell_type": "code",
   "execution_count": null,
   "id": "7206e5ff-eca1-4c81-88f9-7d302c4ca01f",
   "metadata": {},
   "outputs": [],
   "source": []
  },
  {
   "cell_type": "code",
   "execution_count": 35,
   "id": "e5c925af-23df-4f7e-ba41-c210c501c8a5",
   "metadata": {},
   "outputs": [
    {
     "ename": "NameError",
     "evalue": "name 'wizu' is not defined",
     "output_type": "error",
     "traceback": [
      "\u001b[1;31m---------------------------------------------------------------------------\u001b[0m",
      "\u001b[1;31mNameError\u001b[0m                                 Traceback (most recent call last)",
      "Cell \u001b[1;32mIn[35], line 4\u001b[0m\n\u001b[0;32m      2\u001b[0m b\u001b[38;5;241m=\u001b[39m\u001b[38;5;241m2\u001b[39m\n\u001b[0;32m      3\u001b[0m c\u001b[38;5;241m=\u001b[39mmath\u001b[38;5;241m.\u001b[39mpow (a,b)\n\u001b[1;32m----> 4\u001b[0m \u001b[38;5;28mprint\u001b[39m(\u001b[38;5;124m\"\u001b[39m\u001b[38;5;124mexpinent is \u001b[39m\u001b[38;5;124m\"\u001b[39m,wizu)\n",
      "\u001b[1;31mNameError\u001b[0m: name 'wizu' is not defined"
     ]
    }
   ],
   "source": [
    "a=45\n",
    "b=2\n",
    "c=math.pow (a,b)\n",
    "print(\"expinent is \",wizu)"
   ]
  },
  {
   "cell_type": "code",
   "execution_count": 37,
   "id": "42b05a09-677e-497a-a1c3-8d60c5ee4192",
   "metadata": {},
   "outputs": [
    {
     "name": "stdout",
     "output_type": "stream",
     "text": [
      "expinent is  2025.0\n"
     ]
    }
   ],
   "source": [
    "a=45\n",
    "b=2\n",
    "c=math.pow (a,b)\n",
    "print(\"expinent is \",c)"
   ]
  },
  {
   "cell_type": "code",
   "execution_count": 39,
   "id": "2fc6b33f-43cd-4897-9086-933a425024c6",
   "metadata": {},
   "outputs": [
    {
     "name": "stdout",
     "output_type": "stream",
     "text": [
      "expinent is  503284375.0\n"
     ]
    }
   ],
   "source": [
    "a=55\n",
    "b=5\n",
    "c=math.pow (a,b)\n",
    "print(\"expinent is \",c)"
   ]
  },
  {
   "cell_type": "code",
   "execution_count": null,
   "id": "8173860a-6567-4e0d-acc0-366b0c8766c2",
   "metadata": {},
   "outputs": [],
   "source": []
  },
  {
   "cell_type": "code",
   "execution_count": 41,
   "id": "64f24861-1c11-4f39-8584-631a8d8904ed",
   "metadata": {},
   "outputs": [
    {
     "name": "stdout",
     "output_type": "stream",
     "text": [
      "Add 503\n",
      "Sub 497\n",
      "Mul 1500\n",
      "Div 166.66666666666666\n",
      "Mod 2\n",
      "Floor Div 166\n",
      "Exponent 125000000\n"
     ]
    }
   ],
   "source": [
    "a=500\n",
    "b=3\n",
    "print(\"Add\",a+b)\n",
    "print(\"Sub\",a-b)\n",
    "print(\"Mul\",a*b)\n",
    "print(\"Div\",a/b)\n",
    "print(\"Mod\",a%b)\n",
    "print(\"Floor Div\",a//b)\n",
    "print(\"Exponent\",a**b)"
   ]
  },
  {
   "cell_type": "code",
   "execution_count": 43,
   "id": "1d10e07c-b83d-481d-a0e4-3bc0c51db8c1",
   "metadata": {},
   "outputs": [
    {
     "data": {
      "text/plain": [
       "5"
      ]
     },
     "execution_count": 43,
     "metadata": {},
     "output_type": "execute_result"
    }
   ],
   "source": [
    "a=5\n",
    "a"
   ]
  },
  {
   "cell_type": "code",
   "execution_count": 45,
   "id": "808647a2-9833-4e70-ab5b-98ece56e6779",
   "metadata": {},
   "outputs": [
    {
     "data": {
      "text/plain": [
       "5"
      ]
     },
     "execution_count": 45,
     "metadata": {},
     "output_type": "execute_result"
    }
   ],
   "source": [
    "a==5\n",
    "a"
   ]
  },
  {
   "cell_type": "code",
   "execution_count": 47,
   "id": "a92549e0-ee51-4df1-8334-c1cd10be04b5",
   "metadata": {},
   "outputs": [
    {
     "data": {
      "text/plain": [
       "True"
      ]
     },
     "execution_count": 47,
     "metadata": {},
     "output_type": "execute_result"
    }
   ],
   "source": [
    "a==5"
   ]
  },
  {
   "cell_type": "code",
   "execution_count": 49,
   "id": "bf89eefc-8f6f-438f-8da7-8d900289a337",
   "metadata": {},
   "outputs": [
    {
     "data": {
      "text/plain": [
       "False"
      ]
     },
     "execution_count": 49,
     "metadata": {},
     "output_type": "execute_result"
    }
   ],
   "source": [
    "a==10"
   ]
  },
  {
   "cell_type": "code",
   "execution_count": 51,
   "id": "300755df-909d-4f00-9be3-c24b252b2b04",
   "metadata": {},
   "outputs": [
    {
     "data": {
      "text/plain": [
       "False"
      ]
     },
     "execution_count": 51,
     "metadata": {},
     "output_type": "execute_result"
    }
   ],
   "source": [
    "a==8"
   ]
  },
  {
   "cell_type": "code",
   "execution_count": 73,
   "id": "f9fc11da-6a5a-4233-b630-bb5dd278f749",
   "metadata": {},
   "outputs": [],
   "source": [
    "a=67\n",
    "b=87"
   ]
  },
  {
   "cell_type": "code",
   "execution_count": 55,
   "id": "f764ab83-1096-4bcf-b296-3a1640cd9a4b",
   "metadata": {},
   "outputs": [
    {
     "data": {
      "text/plain": [
       "False"
      ]
     },
     "execution_count": 55,
     "metadata": {},
     "output_type": "execute_result"
    }
   ],
   "source": [
    "a>b"
   ]
  },
  {
   "cell_type": "code",
   "execution_count": 57,
   "id": "b9fc37d7-e662-41d1-bfad-8d3842a014c6",
   "metadata": {},
   "outputs": [
    {
     "data": {
      "text/plain": [
       "True"
      ]
     },
     "execution_count": 57,
     "metadata": {},
     "output_type": "execute_result"
    }
   ],
   "source": [
    "a<b"
   ]
  },
  {
   "cell_type": "code",
   "execution_count": 59,
   "id": "3bb8be4a-beac-4350-8562-da563804e313",
   "metadata": {},
   "outputs": [
    {
     "data": {
      "text/plain": [
       "True"
      ]
     },
     "execution_count": 59,
     "metadata": {},
     "output_type": "execute_result"
    }
   ],
   "source": [
    "a<=b"
   ]
  },
  {
   "cell_type": "code",
   "execution_count": 69,
   "id": "bf9c65cc-bfc7-4a4d-99a4-9a5dd86ab381",
   "metadata": {},
   "outputs": [
    {
     "data": {
      "text/plain": [
       "False"
      ]
     },
     "execution_count": 69,
     "metadata": {},
     "output_type": "execute_result"
    }
   ],
   "source": [
    "a>=b"
   ]
  },
  {
   "cell_type": "code",
   "execution_count": 63,
   "id": "02076d3b-ee72-4bc1-8a42-025bf428063f",
   "metadata": {},
   "outputs": [
    {
     "data": {
      "text/plain": [
       "True"
      ]
     },
     "execution_count": 63,
     "metadata": {},
     "output_type": "execute_result"
    }
   ],
   "source": [
    "a<=b #less or equal"
   ]
  },
  {
   "cell_type": "code",
   "execution_count": 81,
   "id": "a708c40e-ccc9-4433-a3cf-49a2b7eebf43",
   "metadata": {},
   "outputs": [
    {
     "data": {
      "text/plain": [
       "False"
      ]
     },
     "execution_count": 81,
     "metadata": {},
     "output_type": "execute_result"
    }
   ],
   "source": [
    "a>=b #false or equal"
   ]
  },
  {
   "cell_type": "code",
   "execution_count": 79,
   "id": "6286970c-c608-4ae2-84aa-582e7d31ef8b",
   "metadata": {},
   "outputs": [
    {
     "data": {
      "text/plain": [
       "True"
      ]
     },
     "execution_count": 79,
     "metadata": {},
     "output_type": "execute_result"
    }
   ],
   "source": [
    "a!=b"
   ]
  },
  {
   "cell_type": "code",
   "execution_count": 83,
   "id": "9a6f49c8-2e51-4a91-b08a-b3212273f5e3",
   "metadata": {},
   "outputs": [
    {
     "data": {
      "text/plain": [
       "True"
      ]
     },
     "execution_count": 83,
     "metadata": {},
     "output_type": "execute_result"
    }
   ],
   "source": [
    "True and True and True"
   ]
  },
  {
   "cell_type": "raw",
   "id": "c56d6092-2077-47a7-ad32-3bee0f0a36c5",
   "metadata": {},
   "source": []
  },
  {
   "cell_type": "code",
   "execution_count": 85,
   "id": "ee10161d-e5b4-4bed-bab8-2ce8e435372e",
   "metadata": {},
   "outputs": [
    {
     "data": {
      "text/plain": [
       "False"
      ]
     },
     "execution_count": 85,
     "metadata": {},
     "output_type": "execute_result"
    }
   ],
   "source": [
    "True and True and False"
   ]
  },
  {
   "cell_type": "code",
   "execution_count": 87,
   "id": "efe75611-a9ed-482b-9b6d-c18c6d367e69",
   "metadata": {},
   "outputs": [
    {
     "data": {
      "text/plain": [
       "False"
      ]
     },
     "execution_count": 87,
     "metadata": {},
     "output_type": "execute_result"
    }
   ],
   "source": [
    "False and False and False"
   ]
  },
  {
   "cell_type": "code",
   "execution_count": 89,
   "id": "f16b3ae6-3f99-4f79-a30f-c96e79e4d307",
   "metadata": {},
   "outputs": [
    {
     "data": {
      "text/plain": [
       "False"
      ]
     },
     "execution_count": 89,
     "metadata": {},
     "output_type": "execute_result"
    }
   ],
   "source": [
    "False and False and True"
   ]
  },
  {
   "cell_type": "code",
   "execution_count": 91,
   "id": "4fef0c35-3e5e-46d0-8c90-b379d800aa86",
   "metadata": {},
   "outputs": [
    {
     "data": {
      "text/plain": [
       "True"
      ]
     },
     "execution_count": 91,
     "metadata": {},
     "output_type": "execute_result"
    }
   ],
   "source": [
    "not False"
   ]
  },
  {
   "cell_type": "code",
   "execution_count": 93,
   "id": "e42a8b3b-a624-420e-8db5-1e6a8c4662ef",
   "metadata": {},
   "outputs": [
    {
     "data": {
      "text/plain": [
       "False"
      ]
     },
     "execution_count": 93,
     "metadata": {},
     "output_type": "execute_result"
    }
   ],
   "source": [
    "not True "
   ]
  },
  {
   "cell_type": "code",
   "execution_count": 95,
   "id": "f7c8b742-9064-4c14-a9de-342af72da328",
   "metadata": {},
   "outputs": [
    {
     "data": {
      "text/plain": [
       "True"
      ]
     },
     "execution_count": 95,
     "metadata": {},
     "output_type": "execute_result"
    }
   ],
   "source": [
    "True and True and False or True and False or True"
   ]
  },
  {
   "cell_type": "code",
   "execution_count": 97,
   "id": "8b8bd9eb-1e02-4c70-a607-3b6bb372c0f3",
   "metadata": {},
   "outputs": [],
   "source": [
    "a=10\n",
    "b=20\n",
    "c=21"
   ]
  },
  {
   "cell_type": "code",
   "execution_count": 99,
   "id": "788b92a2-6b16-456d-9f0a-f04f50b364cc",
   "metadata": {},
   "outputs": [
    {
     "data": {
      "text/plain": [
       "False"
      ]
     },
     "execution_count": 99,
     "metadata": {},
     "output_type": "execute_result"
    }
   ],
   "source": [
    "a>b and a>c"
   ]
  },
  {
   "cell_type": "code",
   "execution_count": 101,
   "id": "937c9b2b-54a7-43a3-942e-145ca6a95b19",
   "metadata": {},
   "outputs": [
    {
     "data": {
      "text/plain": [
       "False"
      ]
     },
     "execution_count": 101,
     "metadata": {},
     "output_type": "execute_result"
    }
   ],
   "source": [
    "b>a and b>c"
   ]
  },
  {
   "cell_type": "code",
   "execution_count": 103,
   "id": "497241a8-7039-4008-9b11-6c0ec40179d5",
   "metadata": {},
   "outputs": [
    {
     "data": {
      "text/plain": [
       "True"
      ]
     },
     "execution_count": 103,
     "metadata": {},
     "output_type": "execute_result"
    }
   ],
   "source": [
    "c>a and c>b"
   ]
  },
  {
   "cell_type": "code",
   "execution_count": 105,
   "id": "14a51e0e-d924-4aae-83ad-3ceaa96f4375",
   "metadata": {},
   "outputs": [
    {
     "name": "stdin",
     "output_type": "stream",
     "text": [
      "enter the number 29\n",
      "enter the number 29\n"
     ]
    },
    {
     "name": "stdout",
     "output_type": "stream",
     "text": [
      "the sum is  58\n"
     ]
    }
   ],
   "source": [
    "a=int(input(\"enter the number\"))\n",
    "b=int(input(\"enter the number\"))\n",
    "c=a+b\n",
    "print(\"the sum is \",c)"
   ]
  },
  {
   "cell_type": "code",
   "execution_count": 107,
   "id": "1028b894-617b-4fc9-942a-49285d06ef7f",
   "metadata": {},
   "outputs": [
    {
     "name": "stdin",
     "output_type": "stream",
     "text": [
      "enter the value of the principle 56\n",
      "enter the rate 67\n",
      "enter the time 209\n"
     ]
    },
    {
     "name": "stdout",
     "output_type": "stream",
     "text": [
      "the intrest is  7841.68\n"
     ]
    }
   ],
   "source": [
    "p=int(input(\"enter the value of the principle\"))\n",
    "r=float(input(\"enter the rate\"))\n",
    "t=int(input(\"enter the time\"))\n",
    "si=p*r*t/100\n",
    "print(\"the intrest is \",si)"
   ]
  },
  {
   "cell_type": "code",
   "execution_count": null,
   "id": "1c0a288c-e9f2-4cbc-adf4-566780769bf9",
   "metadata": {},
   "outputs": [],
   "source": []
  },
  {
   "cell_type": "code",
   "execution_count": null,
   "id": "9f7e46de-7398-42ce-9773-a1cd85ce1254",
   "metadata": {},
   "outputs": [],
   "source": []
  },
  {
   "cell_type": "code",
   "execution_count": 13,
   "id": "a9ad6da0-9f7f-4f99-8c25-82b39455cb6a",
   "metadata": {},
   "outputs": [
    {
     "name": "stdin",
     "output_type": "stream",
     "text": [
      "enter the value of the principle 123\n",
      "enter the rate 11\n",
      "enter the time 32\n"
     ]
    },
    {
     "name": "stdout",
     "output_type": "stream",
     "text": [
      "the intrest is \n",
      "\n",
      " 432.96\n"
     ]
    }
   ],
   "source": [
    "a=int(input(\"enter the value of the principle\"))\n",
    "s=float(input(\"enter the rate\"))\n",
    "t=int(input(\"enter the time\"))\n",
    "print(\"the intrest is \", a*s*t/100, sep=\"\\n\\n \")"
   ]
  },
  {
   "cell_type": "code",
   "execution_count": 17,
   "id": "42fbfb22-dbc1-4e3d-ab1b-6b4446e5fb39",
   "metadata": {},
   "outputs": [
    {
     "ename": "NameError",
     "evalue": "name 'math' is not defined",
     "output_type": "error",
     "traceback": [
      "\u001b[1;31m---------------------------------------------------------------------------\u001b[0m",
      "\u001b[1;31mNameError\u001b[0m                                 Traceback (most recent call last)",
      "Cell \u001b[1;32mIn[17], line 2\u001b[0m\n\u001b[0;32m      1\u001b[0m n\u001b[38;5;241m=\u001b[39m\u001b[38;5;241m123\u001b[39m\n\u001b[1;32m----> 2\u001b[0m c\u001b[38;5;241m=\u001b[39mmath\u001b[38;5;241m.\u001b[39msqrt(n)\n\u001b[0;32m      3\u001b[0m \u001b[38;5;28mprint\u001b[39m(\u001b[38;5;124m\"\u001b[39m\u001b[38;5;124msquare root is \u001b[39m\u001b[38;5;124m\"\u001b[39m,c)\n",
      "\u001b[1;31mNameError\u001b[0m: name 'math' is not defined"
     ]
    }
   ],
   "source": [
    "n=123\n",
    "c=math.sqrt(n)\n",
    "print(\"square root is \",c)"
   ]
  },
  {
   "cell_type": "code",
   "execution_count": 1,
   "id": "20782ce1-002f-4239-b9b1-c2c4d292fdb2",
   "metadata": {},
   "outputs": [
    {
     "ename": "SyntaxError",
     "evalue": "incomplete input (2629922199.py, line 3)",
     "output_type": "error",
     "traceback": [
      "\u001b[1;36m  Cell \u001b[1;32mIn[1], line 3\u001b[1;36m\u001b[0m\n\u001b[1;33m    print(num, \"x\", i, \"=\", num * i\u001b[0m\n\u001b[1;37m                                   ^\u001b[0m\n\u001b[1;31mSyntaxError\u001b[0m\u001b[1;31m:\u001b[0m incomplete input\n"
     ]
    }
   ],
   "source": [
    "def printTable(num, times = 10):\n",
    "    for i in range(1, times+1):\n",
    "        print(num, \"x\", i, \"=\", num * i"
   ]
  },
  {
   "cell_type": "code",
   "execution_count": 5,
   "id": "86e21eb5-361e-4a0e-9cc9-bb8aeed4bfdf",
   "metadata": {},
   "outputs": [
    {
     "name": "stdin",
     "output_type": "stream",
     "text": [
      "enter the marks 123\n",
      "enter the marks 11\n",
      "enter the marks 45\n",
      "enter the marks 32\n",
      "enter the marks 44\n"
     ]
    },
    {
     "name": "stdout",
     "output_type": "stream",
     "text": [
      "the percentage is 51.0\n"
     ]
    }
   ],
   "source": [
    "p=int(input(\"enter the marks\"))\n",
    "q=int(input(\"enter the marks\"))\n",
    "m=int(input(\"enter the marks\"))\n",
    "e=int(input(\"enter the marks\"))\n",
    "h=int(input(\"enter the marks\"))\n",
    "s=p+q+m+e+h\n",
    "per=s*100/500\n",
    "print(\"the percentage is\",per)"
   ]
  },
  {
   "cell_type": "code",
   "execution_count": 1,
   "id": "32af3152-6344-44d6-bcc0-96e8d1b3bdfb",
   "metadata": {},
   "outputs": [
    {
     "ename": "SyntaxError",
     "evalue": "incomplete input (1583229337.py, line 1)",
     "output_type": "error",
     "traceback": [
      "\u001b[1;36m  Cell \u001b[1;32mIn[1], line 1\u001b[1;36m\u001b[0m\n\u001b[1;33m    int(input(\"msg\")\u001b[0m\n\u001b[1;37m                    ^\u001b[0m\n\u001b[1;31mSyntaxError\u001b[0m\u001b[1;31m:\u001b[0m incomplete input\n"
     ]
    }
   ],
   "source": [
    "int(input(\"msg\")"
   ]
  },
  {
   "cell_type": "code",
   "execution_count": null,
   "id": "66f5bab8-dcd4-410f-9054-c4b584a25841",
   "metadata": {},
   "outputs": [],
   "source": []
  },
  {
   "cell_type": "code",
   "execution_count": 6,
   "id": "92ff9d10-5f56-4fae-b8c0-953c50b14394",
   "metadata": {},
   "outputs": [
    {
     "name": "stdin",
     "output_type": "stream",
     "text": [
      "enter the value of a 12\n",
      "enter the value of b 11\n"
     ]
    },
    {
     "name": "stdout",
     "output_type": "stream",
     "text": [
      "the sum is 23\n"
     ]
    }
   ],
   "source": [
    "a=int(input(\"enter the value of a\"))\n",
    "b=int(input(\"enter the value of b\"))\n",
    "c=a+b\n",
    "print(\"the sum is\",c)"
   ]
  },
  {
   "cell_type": "code",
   "execution_count": 12,
   "id": "30f884ce-6460-4493-bc90-f89a9db5b8df",
   "metadata": {},
   "outputs": [
    {
     "name": "stdin",
     "output_type": "stream",
     "text": [
      "enter the value of the priciple 12\n",
      "enter the value of the rate 11\n",
      "enter the value of the time 76\n"
     ]
    }
   ],
   "source": [
    "p=int(input(\"enter the value of the priciple\"))\n",
    "r=int(input(\"enter the value of the rate\"))\n",
    "t=int(input(\"enter the value of the time\"))\n",
    "si=p*r*t/100\n",
    "print=(\"the interst is,\",si)\n"
   ]
  },
  {
   "cell_type": "code",
   "execution_count": 34,
   "id": "a356c816-c5b6-4f3f-873d-bb982b5ec92c",
   "metadata": {},
   "outputs": [
    {
     "name": "stdin",
     "output_type": "stream",
     "text": [
      "enter the number 12\n"
     ]
    },
    {
     "ename": "TypeError",
     "evalue": "'tuple' object is not callable",
     "output_type": "error",
     "traceback": [
      "\u001b[1;31m---------------------------------------------------------------------------\u001b[0m",
      "\u001b[1;31mTypeError\u001b[0m                                 Traceback (most recent call last)",
      "Cell \u001b[1;32mIn[34], line 2\u001b[0m\n\u001b[0;32m      1\u001b[0m a \u001b[38;5;241m=\u001b[39m \u001b[38;5;28mint\u001b[39m(\u001b[38;5;28minput\u001b[39m(\u001b[38;5;124m\"\u001b[39m\u001b[38;5;124menter the number\u001b[39m\u001b[38;5;124m\"\u001b[39m))\n\u001b[1;32m----> 2\u001b[0m \u001b[38;5;28mprint\u001b[39m(a)\n\u001b[0;32m      3\u001b[0m b\u001b[38;5;241m=\u001b[39m\u001b[38;5;28mint\u001b[39m(\u001b[38;5;28minput\u001b[39m(\u001b[38;5;124m\"\u001b[39m\u001b[38;5;124menter the number\u001b[39m\u001b[38;5;124m\"\u001b[39m))\n\u001b[0;32m      5\u001b[0m c\u001b[38;5;241m=\u001b[39m\u001b[38;5;28mfloat\u001b[39m(\u001b[38;5;28minput\u001b[39m(\u001b[38;5;124m\"\u001b[39m\u001b[38;5;124menter the number\u001b[39m\u001b[38;5;124m\"\u001b[39m))\n",
      "\u001b[1;31mTypeError\u001b[0m: 'tuple' object is not callable"
     ]
    }
   ],
   "source": [
    "a = int(input(\"enter the number\"))\n",
    "print(a)\n",
    "b=int(input(\"enter the number\"))\n",
    "\n",
    "c=float(input(\"enter the number\"))\n",
    "avg=float((a+b+c) /3)\n",
    "print(\"the average is\",avg)\n"
   ]
  },
  {
   "cell_type": "markdown",
   "id": "00938366-c75f-4807-b59c-12ffd61f84dd",
   "metadata": {},
   "source": [
    "a=int(input(\"enter the number\"))\n",
    "b=int(input(\"enter the number\"))\n",
    "c=input(input(\"enter the number\"))\n",
    "avg=(a+b++c)/3\n",
    "print(\"the average is\",avg)"
   ]
  },
  {
   "cell_type": "code",
   "execution_count": 16,
   "id": "9a58c6b2-64d0-468e-8b36-35c56c8de9e2",
   "metadata": {},
   "outputs": [
    {
     "name": "stdin",
     "output_type": "stream",
     "text": [
      "enter the year 2024\n"
     ]
    },
    {
     "name": "stdout",
     "output_type": "stream",
     "text": [
      "leap year\n"
     ]
    }
   ],
   "source": [
    "year=int(input(\"enter the year\"))\n",
    "if year%4==0:\n",
    "    print(\"leap year\")\n",
    "else:\n",
    "    print(\"Non leap year\")"
   ]
  },
  {
   "cell_type": "code",
   "execution_count": 41,
   "id": "403f55a0-b07d-43bd-afda-800aedc6e95e",
   "metadata": {},
   "outputs": [
    {
     "ename": "IndentationError",
     "evalue": "expected an indented block after 'else' statement on line 6 (656530414.py, line 7)",
     "output_type": "error",
     "traceback": [
      "\u001b[1;36m  Cell \u001b[1;32mIn[41], line 7\u001b[1;36m\u001b[0m\n\u001b[1;33m    print(\"Not Eligible\")\u001b[0m\n\u001b[1;37m    ^\u001b[0m\n\u001b[1;31mIndentationError\u001b[0m\u001b[1;31m:\u001b[0m expected an indented block after 'else' statement on line 6\n"
     ]
    }
   ],
   "source": [
    "age=int(input(\"enter the number\"))\n",
    "\n",
    "if age>=18:\n",
    " print(\"Eligible to vote\")\n",
    "    \n",
    "else:\n",
    "print(\"Not Eligible\")\n"
   ]
  },
  {
   "cell_type": "code",
   "execution_count": 57,
   "id": "4c6fd963-405d-4d79-86b8-dfb8188f1d00",
   "metadata": {},
   "outputs": [
    {
     "name": "stdin",
     "output_type": "stream",
     "text": [
      "enter the number form 1--7 4\n"
     ]
    },
    {
     "name": "stdout",
     "output_type": "stream",
     "text": [
      "WED\n"
     ]
    }
   ],
   "source": [
    "day=int(input(\"enter the number form 1--7\"))\n",
    "if day==1:\n",
    "    print(\"SUN\")\n",
    "elif day==2:\n",
    "    print(\"MON\")\n",
    "elif day==3:\n",
    "    print(\"TUE\")\n",
    "elif day==4:\n",
    "    print(\"WED\")\n",
    "elif day==5:\n",
    "    print(\"THUR\")\n",
    "elif day==6:\n",
    "    print(\"FIR\")\n",
    "elif day==7:\n",
    "    print(\"SAT\")\n",
    "else:\n",
    "    print(\"invalid input\")\n",
    "\n"
   ]
  },
  {
   "cell_type": "code",
   "execution_count": 67,
   "id": "bf82decc-714f-48e7-b29f-dc39bf6474eb",
   "metadata": {},
   "outputs": [
    {
     "name": "stdin",
     "output_type": "stream",
     "text": [
      "enter the mark 22\n",
      "enter the mark 33\n",
      "enter the mark 22\n",
      "enter the mark 22\n",
      "enter the mark 22\n",
      "enter the mark 22\n"
     ]
    },
    {
     "ename": "TypeError",
     "evalue": "unsupported operand type(s) for /: 'str' and 'int'",
     "output_type": "error",
     "traceback": [
      "\u001b[1;31m---------------------------------------------------------------------------\u001b[0m",
      "\u001b[1;31mTypeError\u001b[0m                                 Traceback (most recent call last)",
      "Cell \u001b[1;32mIn[67], line 8\u001b[0m\n\u001b[0;32m      6\u001b[0m s\u001b[38;5;241m=\u001b[39m\u001b[38;5;28mfloat\u001b[39m\u001b[38;5;241m=\u001b[39m(\u001b[38;5;28minput\u001b[39m(\u001b[38;5;124m\"\u001b[39m\u001b[38;5;124menter the mark\u001b[39m\u001b[38;5;124m\"\u001b[39m))\n\u001b[0;32m      7\u001b[0m s\u001b[38;5;241m=\u001b[39mp\u001b[38;5;241m+\u001b[39mc\u001b[38;5;241m+\u001b[39mm\u001b[38;5;241m+\u001b[39me\u001b[38;5;241m+\u001b[39mh\n\u001b[1;32m----> 8\u001b[0m per\u001b[38;5;241m=\u001b[39ms\u001b[38;5;241m*\u001b[39m\u001b[38;5;241m100\u001b[39m\u001b[38;5;241m/\u001b[39m\u001b[38;5;241m500\u001b[39m\n\u001b[0;32m      9\u001b[0m \u001b[38;5;28;01mif\u001b[39;00m per\u001b[38;5;241m>\u001b[39m\u001b[38;5;241m=\u001b[39m\u001b[38;5;241m60\u001b[39m:\n\u001b[0;32m     10\u001b[0m     \u001b[38;5;28mprint\u001b[39m(\u001b[38;5;124m\"\u001b[39m\u001b[38;5;124mFirst division\u001b[39m\u001b[38;5;124m\"\u001b[39m)\n",
      "\u001b[1;31mTypeError\u001b[0m: unsupported operand type(s) for /: 'str' and 'int'"
     ]
    }
   ],
   "source": [
    "p=float=(input(\"enter the mark\"))\n",
    "c=float=(input(\"enter the mark\"))\n",
    "m=float=(input(\"enter the mark\"))\n",
    "e=float=(input(\"enter the mark\"))\n",
    "h=float=(input(\"enter the mark\"))\n",
    "s=float=(input(\"enter the mark\"))\n",
    "s=p+c+m+e+h\n",
    "per=s*100/500\n",
    "if per>=60:\n",
    "    print(\"First division\")\n",
    "elif per>=45:\n",
    "    print(\"Second division\")\n",
    "elif per>=33:\n",
    "    print(\"Third division\")\n",
    "else:\n",
    "    print(\"Failed!!\")\n",
    " "
   ]
  },
  {
   "cell_type": "code",
   "execution_count": 71,
   "id": "c8e4a3c0-8e25-4be9-b030-2a430b65af77",
   "metadata": {},
   "outputs": [
    {
     "name": "stdin",
     "output_type": "stream",
     "text": [
      "enter the number 22\n",
      "enter the number 11\n",
      "enter the number 22\n"
     ]
    },
    {
     "name": "stdout",
     "output_type": "stream",
     "text": [
      "c,is greatest\n"
     ]
    }
   ],
   "source": [
    "a=int(input(\"enter the number\"))\n",
    "b=int(input(\"enter the number\"))\n",
    "c=int(input(\"enter the number\"))\n",
    "\n",
    "if a>b and a>c:\n",
    "    print(a,\"is greatest\")\n",
    "elif b>a and b>c:\n",
    "    print(b,\"is greatest\")\n",
    "else:\n",
    "    print(\"c,is greatest\")\n"
   ]
  },
  {
   "cell_type": "code",
   "execution_count": 75,
   "id": "ff8c20ba-aef5-4d72-a6f4-78dfce88ad1d",
   "metadata": {},
   "outputs": [
    {
     "name": "stdin",
     "output_type": "stream",
     "text": [
      "enter the number 33\n",
      "enter the number 22\n",
      "enter the number 44\n"
     ]
    },
    {
     "name": "stdout",
     "output_type": "stream",
     "text": [
      "44 is greatest\n"
     ]
    }
   ],
   "source": [
    "a=int(input(\"enter the number\"))\n",
    "b=int(input(\"enter the number\"))\n",
    "c=int(input(\"enter the number\"))\n",
    "\n",
    "if a>b and a>c:\n",
    "    print(a,\"is greatest\")\n",
    "elif b>a and b>c:\n",
    "    print(b,\"is greatest\")\n",
    "else:\n",
    "    print(c,\"is greatest\")"
   ]
  },
  {
   "cell_type": "code",
   "execution_count": 79,
   "id": "59eb9a49-6bcf-43bc-995e-380f0805298a",
   "metadata": {},
   "outputs": [
    {
     "name": "stdin",
     "output_type": "stream",
     "text": [
      "enter na alphabet s\n"
     ]
    },
    {
     "name": "stdout",
     "output_type": "stream",
     "text": [
      "consonant\n"
     ]
    }
   ],
   "source": [
    "ch=input(\"enter na alphabet\")\n",
    "\n",
    "if ch=='a' or ch=='e' or ch=='i' or ch=='o' or ch=='u':\n",
    "    print(\"vowel\")\n",
    "elif ch=='A' or ch=='E' or ch=='I' or ch=='O' or ch=='U':\n",
    "    print(\"vowel\")\n",
    "else:\n",
    "    print(\"consonant\")"
   ]
  },
  {
   "cell_type": "code",
   "execution_count": 81,
   "id": "d77c88c0-e153-47f4-ba0b-e5cb179817e6",
   "metadata": {},
   "outputs": [
    {
     "name": "stdout",
     "output_type": "stream",
     "text": [
      "consonant\n"
     ]
    }
   ],
   "source": [
    "if ch in ['a','A','e','E','i','I','o','O','u','U']:\n",
    "    print(\"vowel\")\n",
    "else:\n",
    "    print(\"consonant\")"
   ]
  },
  {
   "cell_type": "code",
   "execution_count": 87,
   "id": "feb6ed2c-e961-4b02-907a-e602eb0c949f",
   "metadata": {},
   "outputs": [
    {
     "name": "stdin",
     "output_type": "stream",
     "text": [
      "enter color code like \n",
      " r for Red \n",
      " g for Green \n",
      " y for Yellow \n",
      " y\n"
     ]
    },
    {
     "name": "stdout",
     "output_type": "stream",
     "text": [
      "get ready\n"
     ]
    }
   ],
   "source": [
    "ch=input(\"enter color code like \\n r for Red \\n g for Green \\n y for Yellow \\n\")\n",
    "if ch=='r'or ch=='R':\n",
    "   print(\"Stop\")\n",
    "elif ch=='y' or ch=='Y':\n",
    "   print(\"get ready\")\n",
    "elif ch=='g' or ch=='G':\n",
    "   print(\"move forward\")\n",
    "else:\n",
    "   print(\"pay chalaan\")\n"
   ]
  },
  {
   "cell_type": "code",
   "execution_count": 3,
   "id": "180bd2e2-1a02-4a50-9856-0f4504271be2",
   "metadata": {},
   "outputs": [
    {
     "name": "stdin",
     "output_type": "stream",
     "text": [
      "enter the number 12\n"
     ]
    },
    {
     "name": "stdout",
     "output_type": "stream",
     "text": [
      "Even Number\n"
     ]
    }
   ],
   "source": [
    "n=int(input(\"enter the number\"))\n",
    "if n%2==0:\n",
    "    print(\"Even Number\")\n",
    "else:\n",
    "\n",
    "    print(\"Odd Number\")"
   ]
  },
  {
   "cell_type": "code",
   "execution_count": 11,
   "id": "48d81436-c11f-4a51-841a-0e36cdb6dac2",
   "metadata": {},
   "outputs": [
    {
     "ename": "IndentationError",
     "evalue": "expected an indented block after 'if' statement on line 2 (403300822.py, line 3)",
     "output_type": "error",
     "traceback": [
      "\u001b[1;36m  Cell \u001b[1;32mIn[11], line 3\u001b[1;36m\u001b[0m\n\u001b[1;33m    else:\u001b[0m\n\u001b[1;37m    ^\u001b[0m\n\u001b[1;31mIndentationError\u001b[0m\u001b[1;31m:\u001b[0m expected an indented block after 'if' statement on line 2\n"
     ]
    }
   ],
   "source": [
    "n=int(input(\"enter the number\"))\n",
    "if n%2==0:\n",
    "else:\n",
    "    \n",
    "    print(\"odd number\")"
   ]
  },
  {
   "cell_type": "code",
   "execution_count": 17,
   "id": "623d2bfc-0e7c-40cc-9de1-bbad61121bc3",
   "metadata": {},
   "outputs": [
    {
     "name": "stdin",
     "output_type": "stream",
     "text": [
      "enter the number 12\n"
     ]
    },
    {
     "name": "stdout",
     "output_type": "stream",
     "text": [
      "even number\n"
     ]
    }
   ],
   "source": [
    "n=int(input(\"enter the number\"))\n",
    "if n%3==0:\n",
    "    print(\"even number\")\n",
    "else:\n",
    "    print(\"odd number\")\n",
    "    "
   ]
  },
  {
   "cell_type": "code",
   "execution_count": 29,
   "id": "10272dcb-1a35-4500-8389-c24871c0b8e7",
   "metadata": {},
   "outputs": [
    {
     "name": "stdin",
     "output_type": "stream",
     "text": [
      "enter the year 54534\n"
     ]
    },
    {
     "name": "stdout",
     "output_type": "stream",
     "text": [
      "leap year\n"
     ]
    }
   ],
   "source": [
    "year=int(input(\"enter the year\"))\n",
    "if n%4==0:\n",
    "    print(\"leap year\")\n",
    "else:\n",
    "    print(\"non leap year\")\n",
    "    "
   ]
  },
  {
   "cell_type": "code",
   "execution_count": 33,
   "id": "49b25235-af6a-4503-a028-4100a3e6f704",
   "metadata": {},
   "outputs": [
    {
     "name": "stdin",
     "output_type": "stream",
     "text": [
      "enter the age 2\n"
     ]
    },
    {
     "name": "stdout",
     "output_type": "stream",
     "text": [
      "non elegible\n"
     ]
    }
   ],
   "source": [
    "age=int(input(\"enter the age\"))\n",
    "if age>18:\n",
    "    print(\"eligible for vote\")\n",
    "else:\n",
    "    print(\"non elegible\")"
   ]
  },
  {
   "cell_type": "code",
   "execution_count": 39,
   "id": "6578a732-299f-4795-ac4e-77244a18d204",
   "metadata": {},
   "outputs": [
    {
     "name": "stdin",
     "output_type": "stream",
     "text": [
      "enter the age 33\n"
     ]
    },
    {
     "name": "stdout",
     "output_type": "stream",
     "text": [
      "non elegible\n"
     ]
    }
   ],
   "source": [
    "age=int(input(\"enter the age\"))\n",
    "if age<18:\n",
    "    print(\"eligible for vote\")\n",
    "else:\n",
    "    print(\"non elegible\")"
   ]
  },
  {
   "cell_type": "code",
   "execution_count": 5,
   "id": "7ced99d9-2aa1-4e47-964b-0918b0ec5bf7",
   "metadata": {},
   "outputs": [
    {
     "name": "stdin",
     "output_type": "stream",
     "text": [
      "enter the number for, 1--7 4\n"
     ]
    },
    {
     "name": "stdout",
     "output_type": "stream",
     "text": [
      "wed\n"
     ]
    }
   ],
   "source": [
    "day=int(input(\"enter the number for, 1--7\"))\n",
    "if day==1:\n",
    "    print(\"sun\")\n",
    "elif  day==2:\n",
    "    print(\"mon\")\n",
    "elif  day==3:\n",
    "    print(\"tue\")\n",
    "elif  day==4:\n",
    "    print(\"wed\")\n",
    "elif  day==5:\n",
    "    print(\"thursday\")\n",
    "elif day ==6:\n",
    "    print(\"friday\")\n",
    "elif day==7:\n",
    "    print(\"sat\")\n",
    "else:\n",
    "    print(\"invalid input\")\n",
    "\n",
    "\n"
   ]
  },
  {
   "cell_type": "code",
   "execution_count": 90,
   "id": "fe3d85b0-7352-40c6-9504-87e5d85ac15a",
   "metadata": {},
   "outputs": [
    {
     "ename": "SyntaxError",
     "evalue": "incomplete input (1057327236.py, line 9)",
     "output_type": "error",
     "traceback": [
      "\u001b[1;36m  Cell \u001b[1;32mIn[90], line 9\u001b[1;36m\u001b[0m\n\u001b[1;33m    else:\u001b[0m\n\u001b[1;37m         ^\u001b[0m\n\u001b[1;31mSyntaxError\u001b[0m\u001b[1;31m:\u001b[0m incomplete input\n"
     ]
    }
   ],
   "source": [
    "day=int(input(\"enter the number from 1 --- 7\"))\n",
    "if day==1:\n",
    "   print (\"SUN\" ) \n",
    "elif day==2:\n",
    "   print (\"MON\" )\n",
    "elif day==3:\n",
    "   print (\"TU\")\n",
    "   \n",
    "else:"
   ]
  },
  {
   "cell_type": "code",
   "execution_count": 98,
   "id": "904757d1-f822-4ed5-b61f-42bfd70667ed",
   "metadata": {},
   "outputs": [
    {
     "name": "stdin",
     "output_type": "stream",
     "text": [
      "enter the number 323\n",
      "enter the number 33\n",
      "enter the number 22\n",
      "enter the number 33\n",
      "enter the number 343\n"
     ]
    },
    {
     "name": "stdout",
     "output_type": "stream",
     "text": [
      "9 CGPA\n"
     ]
    }
   ],
   "source": [
    "p=float(input(\"enter the number\"))\n",
    "c=float(input(\"enter the number\"))\n",
    "m=float(input(\"enter the number\")) \n",
    "e=float(input(\"enter the number\"))\n",
    "h=float(input(\"enter the number\"))\n",
    "s=p+c+m+e+h\n",
    "per=s*100/500\n",
    "if per>60:\n",
    "    print(\"9 CGPA\")\n",
    "elif per>45:\n",
    "    print(\"7 CGPA\")\n",
    "elif per>33:\n",
    "    print(\"5 CGPA\")\n",
    "else:\n",
    "    print(\"fail\")\n"
   ]
  },
  {
   "cell_type": "code",
   "execution_count": 106,
   "id": "35cc35c0-9454-4238-b368-a783be95d930",
   "metadata": {},
   "outputs": [
    {
     "name": "stdin",
     "output_type": "stream",
     "text": [
      "enter the number 4324\n",
      "enter the number 423\n",
      "enter the number 4234\n"
     ]
    },
    {
     "name": "stdout",
     "output_type": "stream",
     "text": [
      "4324  is greatest\n"
     ]
    }
   ],
   "source": [
    "a=int(input(\"enter the number\"))\n",
    "b=int(input(\"enter the number\"))\n",
    "c=int(input(\"enter the number\"))\n",
    "\n",
    "if a>b and a>c:\n",
    "    print(a,\" is greatest\")\n",
    "elif b>a and b>c:\n",
    "    print(b,\"is greatest\")\n",
    "else:\n",
    "    print(c,\"is greatest\")"
   ]
  },
  {
   "cell_type": "code",
   "execution_count": 108,
   "id": "4f4e4fe9-4687-4a14-ba23-5eaa8032083c",
   "metadata": {},
   "outputs": [
    {
     "name": "stdin",
     "output_type": "stream",
     "text": [
      "enter an alphabet A\n"
     ]
    },
    {
     "name": "stdout",
     "output_type": "stream",
     "text": [
      "vowel\n"
     ]
    }
   ],
   "source": [
    "ch=input(\"enter an alphabet\")\n",
    "if ch=='a' or ch=='e' or ch=='i' or ch=='o' or ch=='u':\n",
    "    print(\"vowel\")\n",
    "elif ch=='A' or ch=='E' or ch=='I' or ch=='O' or ch=='U':\n",
    "    print(\"vowel\")\n",
    "else:\n",
    "    print(\"consunant\")"
   ]
  },
  {
   "cell_type": "code",
   "execution_count": 128,
   "id": "32148366-8ac9-4983-8642-dc392636233e",
   "metadata": {},
   "outputs": [
    {
     "name": "stdin",
     "output_type": "stream",
     "text": [
      "enter the number 23\n",
      "enter the number 33\n",
      "enter the number 43\n",
      "enter the number 33\n",
      "enter the number 22\n"
     ]
    },
    {
     "name": "stdout",
     "output_type": "stream",
     "text": [
      "fail\n"
     ]
    }
   ],
   "source": [
    "g=int(input(\"enter the number\"))\n",
    "h=int(input(\"enter the number\"))\n",
    "i=int(input(\"enter the number\"))\n",
    "j=int(input(\"enter the number\"))\n",
    "k=int(input(\"enter the number\"))\n",
    "s=g+h+i+j+k\n",
    "per=s*100/500\n",
    "if per>60:\n",
    "    print(\"10 CGPA\")\n",
    "elif per>45:\n",
    "    print(\"8 CGPA\")\n",
    "elif per>33:\n",
    "    print(\"6 CGPA\")\n",
    "else:\n",
    "    print(\"fail\")"
   ]
  },
  {
   "cell_type": "code",
   "execution_count": 3,
   "id": "0d5be178-bb9b-44a8-993a-06a9faa843bf",
   "metadata": {},
   "outputs": [
    {
     "name": "stdout",
     "output_type": "stream",
     "text": [
      "add 504\n",
      "sub 496\n",
      "mul 2000\n",
      "div 125.0\n"
     ]
    }
   ],
   "source": []
  },
  {
   "cell_type": "code",
   "execution_count": 13,
   "id": "8f7c3562-9d05-415e-81e0-13bc183a0813",
   "metadata": {},
   "outputs": [
    {
     "name": "stdin",
     "output_type": "stream",
     "text": [
      "enter the number 2\n",
      "enter the number 3\n"
     ]
    },
    {
     "name": "stdout",
     "output_type": "stream",
     "text": [
      "1.ADD\n",
      "2.SUB\n",
      "3.MUL\n",
      "4.DIV\n"
     ]
    },
    {
     "name": "stdin",
     "output_type": "stream",
     "text": [
      "enter the choice from above 2\n"
     ]
    },
    {
     "name": "stdout",
     "output_type": "stream",
     "text": [
      "the sub is -1\n"
     ]
    }
   ],
   "source": [
    "a=int(input(\"enter the number\"))\n",
    "b=int(input(\"enter the number\"))\n",
    "print(\"1.ADD\")\n",
    "print(\"2.SUB\")\n",
    "print(\"3.MUL\")\n",
    "print(\"4.DIV\")\n",
    "choice=int(input(\"enter the choice from above\"))\n",
    "if choice==1:\n",
    "    print(\"the sum is\",a+b)\n",
    "elif choice==2:\n",
    "    print(\"the sub is\",a-b)\n",
    "elif choice==3:\n",
    "    print(\"the mul is\",a*b)\n",
    "elif choice==4:\n",
    "    print(\"the div is \",a/b)\n",
    "else:\n",
    "    print(\"invalid choice\")"
   ]
  },
  {
   "cell_type": "code",
   "execution_count": 21,
   "id": "e4242d6e-5797-4bae-adc5-23f98a6be0b9",
   "metadata": {},
   "outputs": [
    {
     "name": "stdin",
     "output_type": "stream",
     "text": [
      "enter the number 22\n",
      "enter the number 232\n",
      "enter the number 22\n"
     ]
    },
    {
     "name": "stdout",
     "output_type": "stream",
     "text": [
      "232 is greatest\n"
     ]
    }
   ],
   "source": [
    "a=int(input(\"enter the number\"))\n",
    "b=int(input(\"enter the number\"))\n",
    "c=int(input(\"enter the number\"))\n",
    "\n",
    "if a>b:\n",
    "    if a>c:\n",
    "        print(a,\"is greatest\")\n",
    "    else:\n",
    "        print(c,\"is greatest\")\n",
    "else:\n",
    "    if b>c:\n",
    "        print(b,\"is greatest\")\n",
    "    else:\n",
    "        print(c,\"is greatest\")\n",
    "  "
   ]
  },
  {
   "cell_type": "code",
   "execution_count": 33,
   "id": "eae59f93-de8b-4bd9-b96a-53550e1a1166",
   "metadata": {},
   "outputs": [
    {
     "name": "stdin",
     "output_type": "stream",
     "text": [
      "enter the number of units 121\n"
     ]
    },
    {
     "name": "stdout",
     "output_type": "stream",
     "text": [
      "amount to pay: 105\n"
     ]
    }
   ],
   "source": [
    "amt=0\n",
    "nu=int(input(\"enter the number of units\"))\n",
    "if nu<=100:\n",
    "    amt=0\n",
    "if nu>100:\n",
    "    amt=(nu-100)*5\n",
    "if nu>200:\n",
    "   amt=500+(nu-200) *10\n",
    "print(\"amount to pay:\",amt)"
   ]
  },
  {
   "cell_type": "code",
   "execution_count": 51,
   "id": "9c234046-f708-4e50-94c6-bc6c7de29b15",
   "metadata": {},
   "outputs": [
    {
     "name": "stdin",
     "output_type": "stream",
     "text": [
      "Enter a number -3\n"
     ]
    },
    {
     "name": "stdout",
     "output_type": "stream",
     "text": [
      "3\n"
     ]
    }
   ],
   "source": [
    "#absolute number\n",
    "number = int(input(\"Enter a number\"))\n",
    "if number<0:\n",
    "    print(number*-1)\n",
    "else:\n",
    "    print(number )"
   ]
  },
  {
   "cell_type": "code",
   "execution_count": 55,
   "id": "192b17a6-8db1-4f53-bc27-3b65a2dcffee",
   "metadata": {},
   "outputs": [
    {
     "name": "stdin",
     "output_type": "stream",
     "text": [
      "enter the number -3\n"
     ]
    },
    {
     "name": "stdout",
     "output_type": "stream",
     "text": [
      "3\n"
     ]
    }
   ],
   "source": [
    "n=int(input(\"enter the number\"))\n",
    "r=abs(n)\n",
    "print(r)"
   ]
  },
  {
   "cell_type": "code",
   "execution_count": 61,
   "id": "ba18fd50-61d4-4d95-a9d7-267c450d83c7",
   "metadata": {},
   "outputs": [
    {
     "name": "stdin",
     "output_type": "stream",
     "text": [
      "Enter length 22\n",
      "Enter breadth 33\n"
     ]
    },
    {
     "name": "stdout",
     "output_type": "stream",
     "text": [
      "No, it is only Rectangle\n",
      "the area of rectangle is  726\n"
     ]
    }
   ],
   "source": [
    "#Take values of Length and breadth of a rectangle from user and check if it is\n",
    "length = int(input (\"Enter length\"))\n",
    "breadth =int(input(\"Enter breadth\"))\n",
    "if length == breadth:\n",
    "    print( \"Yes, it is square\")\n",
    "    print(\"the area of«square is \",length**2)\n",
    "else:\n",
    "    print (\"No, it is only Rectangle\")\n",
    "    print(\"the area of rectangle is \" , length*breadth)"
   ]
  },
  {
   "cell_type": "code",
   "execution_count": null,
   "id": "ce869191-a1af-4b44-909f-cec1ca990a75",
   "metadata": {},
   "outputs": [],
   "source": []
  }
 ],
 "metadata": {
  "kernelspec": {
   "display_name": "Python 3 (ipykernel)",
   "language": "python",
   "name": "python3"
  },
  "language_info": {
   "codemirror_mode": {
    "name": "ipython",
    "version": 3
   },
   "file_extension": ".py",
   "mimetype": "text/x-python",
   "name": "python",
   "nbconvert_exporter": "python",
   "pygments_lexer": "ipython3",
   "version": "3.12.4"
  }
 },
 "nbformat": 4,
 "nbformat_minor": 5
}
